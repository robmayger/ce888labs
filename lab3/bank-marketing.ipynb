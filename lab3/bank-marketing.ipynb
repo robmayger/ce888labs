{
 "cells": [
  {
   "cell_type": "code",
   "execution_count": 41,
   "metadata": {},
   "outputs": [],
   "source": [
    "import matplotlib.pyplot as plt\n",
    "import numpy as np\n",
    "import pandas as pd\n",
    "from sklearn.ensemble import ExtraTreesClassifier\n",
    "from sklearn.model_selection import KFold, cross_val_score"
   ]
  },
  {
   "cell_type": "code",
   "execution_count": 42,
   "metadata": {},
   "outputs": [
    {
     "name": "stdout",
     "output_type": "stream",
     "text": [
      "(4640, 20)\n"
     ]
    },
    {
     "data": {
      "text/html": [
       "<div>\n",
       "<style scoped>\n",
       "    .dataframe tbody tr th:only-of-type {\n",
       "        vertical-align: middle;\n",
       "    }\n",
       "\n",
       "    .dataframe tbody tr th {\n",
       "        vertical-align: top;\n",
       "    }\n",
       "\n",
       "    .dataframe thead th {\n",
       "        text-align: right;\n",
       "    }\n",
       "</style>\n",
       "<table border=\"1\" class=\"dataframe\">\n",
       "  <thead>\n",
       "    <tr style=\"text-align: right;\">\n",
       "      <th></th>\n",
       "      <th>age</th>\n",
       "      <th>job</th>\n",
       "      <th>marital</th>\n",
       "      <th>education</th>\n",
       "      <th>default</th>\n",
       "      <th>housing</th>\n",
       "      <th>loan</th>\n",
       "      <th>contact</th>\n",
       "      <th>month</th>\n",
       "      <th>day_of_week</th>\n",
       "      <th>campaign</th>\n",
       "      <th>pdays</th>\n",
       "      <th>previous</th>\n",
       "      <th>poutcome</th>\n",
       "      <th>emp.var.rate</th>\n",
       "      <th>cons.price.idx</th>\n",
       "      <th>cons.conf.idx</th>\n",
       "      <th>euribor3m</th>\n",
       "      <th>nr.employed</th>\n",
       "      <th>y</th>\n",
       "    </tr>\n",
       "  </thead>\n",
       "  <tbody>\n",
       "    <tr>\n",
       "      <th>75</th>\n",
       "      <td>41</td>\n",
       "      <td>blue-collar</td>\n",
       "      <td>divorced</td>\n",
       "      <td>basic.4y</td>\n",
       "      <td>unknown</td>\n",
       "      <td>yes</td>\n",
       "      <td>no</td>\n",
       "      <td>telephone</td>\n",
       "      <td>may</td>\n",
       "      <td>mon</td>\n",
       "      <td>1</td>\n",
       "      <td>999</td>\n",
       "      <td>0</td>\n",
       "      <td>nonexistent</td>\n",
       "      <td>1.1</td>\n",
       "      <td>93.994</td>\n",
       "      <td>-36.4</td>\n",
       "      <td>4.857</td>\n",
       "      <td>5191.0</td>\n",
       "      <td>yes</td>\n",
       "    </tr>\n",
       "    <tr>\n",
       "      <th>83</th>\n",
       "      <td>49</td>\n",
       "      <td>entrepreneur</td>\n",
       "      <td>married</td>\n",
       "      <td>university.degree</td>\n",
       "      <td>unknown</td>\n",
       "      <td>yes</td>\n",
       "      <td>no</td>\n",
       "      <td>telephone</td>\n",
       "      <td>may</td>\n",
       "      <td>mon</td>\n",
       "      <td>1</td>\n",
       "      <td>999</td>\n",
       "      <td>0</td>\n",
       "      <td>nonexistent</td>\n",
       "      <td>1.1</td>\n",
       "      <td>93.994</td>\n",
       "      <td>-36.4</td>\n",
       "      <td>4.857</td>\n",
       "      <td>5191.0</td>\n",
       "      <td>yes</td>\n",
       "    </tr>\n",
       "    <tr>\n",
       "      <th>88</th>\n",
       "      <td>49</td>\n",
       "      <td>technician</td>\n",
       "      <td>married</td>\n",
       "      <td>basic.9y</td>\n",
       "      <td>no</td>\n",
       "      <td>no</td>\n",
       "      <td>no</td>\n",
       "      <td>telephone</td>\n",
       "      <td>may</td>\n",
       "      <td>mon</td>\n",
       "      <td>1</td>\n",
       "      <td>999</td>\n",
       "      <td>0</td>\n",
       "      <td>nonexistent</td>\n",
       "      <td>1.1</td>\n",
       "      <td>93.994</td>\n",
       "      <td>-36.4</td>\n",
       "      <td>4.857</td>\n",
       "      <td>5191.0</td>\n",
       "      <td>yes</td>\n",
       "    </tr>\n",
       "    <tr>\n",
       "      <th>129</th>\n",
       "      <td>41</td>\n",
       "      <td>technician</td>\n",
       "      <td>married</td>\n",
       "      <td>professional.course</td>\n",
       "      <td>unknown</td>\n",
       "      <td>yes</td>\n",
       "      <td>no</td>\n",
       "      <td>telephone</td>\n",
       "      <td>may</td>\n",
       "      <td>mon</td>\n",
       "      <td>1</td>\n",
       "      <td>999</td>\n",
       "      <td>0</td>\n",
       "      <td>nonexistent</td>\n",
       "      <td>1.1</td>\n",
       "      <td>93.994</td>\n",
       "      <td>-36.4</td>\n",
       "      <td>4.857</td>\n",
       "      <td>5191.0</td>\n",
       "      <td>yes</td>\n",
       "    </tr>\n",
       "    <tr>\n",
       "      <th>139</th>\n",
       "      <td>45</td>\n",
       "      <td>blue-collar</td>\n",
       "      <td>married</td>\n",
       "      <td>basic.9y</td>\n",
       "      <td>unknown</td>\n",
       "      <td>yes</td>\n",
       "      <td>no</td>\n",
       "      <td>telephone</td>\n",
       "      <td>may</td>\n",
       "      <td>mon</td>\n",
       "      <td>1</td>\n",
       "      <td>999</td>\n",
       "      <td>0</td>\n",
       "      <td>nonexistent</td>\n",
       "      <td>1.1</td>\n",
       "      <td>93.994</td>\n",
       "      <td>-36.4</td>\n",
       "      <td>4.857</td>\n",
       "      <td>5191.0</td>\n",
       "      <td>yes</td>\n",
       "    </tr>\n",
       "  </tbody>\n",
       "</table>\n",
       "</div>"
      ],
      "text/plain": [
       "     age           job   marital            education  default housing loan  \\\n",
       "75    41   blue-collar  divorced             basic.4y  unknown     yes   no   \n",
       "83    49  entrepreneur   married    university.degree  unknown     yes   no   \n",
       "88    49    technician   married             basic.9y       no      no   no   \n",
       "129   41    technician   married  professional.course  unknown     yes   no   \n",
       "139   45   blue-collar   married             basic.9y  unknown     yes   no   \n",
       "\n",
       "       contact month day_of_week  campaign  pdays  previous     poutcome  \\\n",
       "75   telephone   may         mon         1    999         0  nonexistent   \n",
       "83   telephone   may         mon         1    999         0  nonexistent   \n",
       "88   telephone   may         mon         1    999         0  nonexistent   \n",
       "129  telephone   may         mon         1    999         0  nonexistent   \n",
       "139  telephone   may         mon         1    999         0  nonexistent   \n",
       "\n",
       "     emp.var.rate  cons.price.idx  cons.conf.idx  euribor3m  nr.employed    y  \n",
       "75            1.1          93.994          -36.4      4.857       5191.0  yes  \n",
       "83            1.1          93.994          -36.4      4.857       5191.0  yes  \n",
       "88            1.1          93.994          -36.4      4.857       5191.0  yes  \n",
       "129           1.1          93.994          -36.4      4.857       5191.0  yes  \n",
       "139           1.1          93.994          -36.4      4.857       5191.0  yes  "
      ]
     },
     "execution_count": 42,
     "metadata": {},
     "output_type": "execute_result"
    }
   ],
   "source": [
    "df = pd.read_csv('./bank-additional-full.csv', sep=';')\n",
    "yes_df = df.loc[df['y'] == 'yes']\n",
    "del yes_df['duration']\n",
    "print(yes_df.shape)\n",
    "yes_df.head()"
   ]
  },
  {
   "cell_type": "code",
   "execution_count": 43,
   "metadata": {},
   "outputs": [
    {
     "name": "stdout",
     "output_type": "stream",
     "text": [
      "(4640, 61)\n"
     ]
    }
   ],
   "source": [
    "y_col = yes_df['y']\n",
    "del yes_df['y']\n",
    "df_dummies = pd.get_dummies(yes_df)\n",
    "print(df_dummies.shape)"
   ]
  },
  {
   "cell_type": "code",
   "execution_count": 44,
   "metadata": {},
   "outputs": [
    {
     "data": {
      "image/png": "[encoded data removed]",
      "text/plain": [
       "<Figure size 432x288 with 1 Axes>"
      ]
     },
     "metadata": {
      "needs_background": "light"
     },
     "output_type": "display_data"
    }
   ],
   "source": [
    "plt.hist(yes_df[\"age\"])\n",
    "plt.show()"
   ]
  },
  {
   "cell_type": "code",
   "execution_count": 45,
   "metadata": {},
   "outputs": [],
   "source": [
    "clf = ExtraTreesClassifier(n_estimators=100)\n",
    "k_fold = KFold(n_splits=10)"
   ]
  },
  {
   "cell_type": "code",
   "execution_count": 47,
   "metadata": {},
   "outputs": [
    {
     "name": "stdout",
     "output_type": "stream",
     "text": [
      "Average accuracy: 100.0 %\n"
     ]
    }
   ],
   "source": [
    "score = cross_val_score(clf, df_dummies, y_col, cv=k_fold, n_jobs=-1)\n",
    "print('Average accuracy: {} %'.format(np.mean(score)*100))"
   ]
  },
  {
   "cell_type": "code",
   "execution_count": 48,
   "metadata": {},
   "outputs": [
    {
     "name": "stdout",
     "output_type": "stream",
     "text": [
      "Feature ranking:\n",
      "(4640, 61)\n",
      "1. feature 60 (0.000000)\n",
      "2. feature 29 (0.000000)\n",
      "3. feature 27 (0.000000)\n",
      "4. feature 26 (0.000000)\n",
      "5. feature 25 (0.000000)\n",
      "6. feature 24 (0.000000)\n",
      "7. feature 23 (0.000000)\n",
      "8. feature 22 (0.000000)\n",
      "9. feature 21 (0.000000)\n",
      "10. feature 20 (0.000000)\n",
      "11. feature 19 (0.000000)\n",
      "12. feature 18 (0.000000)\n",
      "13. feature 17 (0.000000)\n",
      "14. feature 16 (0.000000)\n",
      "15. feature 15 (0.000000)\n",
      "16. feature 14 (0.000000)\n",
      "17. feature 13 (0.000000)\n",
      "18. feature 12 (0.000000)\n",
      "19. feature 11 (0.000000)\n",
      "20. feature 10 (0.000000)\n",
      "21. feature 9 (0.000000)\n",
      "22. feature 8 (0.000000)\n",
      "23. feature 7 (0.000000)\n",
      "24. feature 6 (0.000000)\n",
      "25. feature 5 (0.000000)\n",
      "26. feature 4 (0.000000)\n",
      "27. feature 3 (0.000000)\n",
      "28. feature 2 (0.000000)\n",
      "29. feature 1 (0.000000)\n",
      "30. feature 28 (0.000000)\n",
      "31. feature 30 (0.000000)\n",
      "32. feature 59 (0.000000)\n",
      "33. feature 31 (0.000000)\n",
      "34. feature 58 (0.000000)\n",
      "35. feature 57 (0.000000)\n",
      "36. feature 56 (0.000000)\n",
      "37. feature 55 (0.000000)\n",
      "38. feature 54 (0.000000)\n",
      "39. feature 53 (0.000000)\n",
      "40. feature 52 (0.000000)\n",
      "41. feature 51 (0.000000)\n",
      "42. feature 50 (0.000000)\n",
      "43. feature 49 (0.000000)\n",
      "44. feature 48 (0.000000)\n",
      "45. feature 47 (0.000000)\n",
      "46. feature 46 (0.000000)\n",
      "47. feature 45 (0.000000)\n",
      "48. feature 44 (0.000000)\n",
      "49. feature 43 (0.000000)\n",
      "50. feature 42 (0.000000)\n",
      "51. feature 41 (0.000000)\n",
      "52. feature 40 (0.000000)\n",
      "53. feature 39 (0.000000)\n",
      "54. feature 38 (0.000000)\n",
      "55. feature 37 (0.000000)\n",
      "56. feature 36 (0.000000)\n",
      "57. feature 35 (0.000000)\n",
      "58. feature 34 (0.000000)\n",
      "59. feature 33 (0.000000)\n",
      "60. feature 32 (0.000000)\n",
      "61. feature 0 (0.000000)\n"
     ]
    }
   ],
   "source": [
    "clf.fit(df_dummies, y_col)\n",
    "importances = clf.feature_importances_\n",
    "std = np.std([tree.feature_importances_ for tree in clf.estimators_], axis=0)\n",
    "indices = np.argsort(importances)[::-1]\n",
    "print(\"Feature ranking:\")\n",
    "print(df_dummies.shape)\n",
    "for f in range(df_dummies.shape[1]):\n",
    "    print(\"%d. feature %d (%f)\" % (f + 1, indices[f], importances[indices[f]]))"
   ]
  },
  {
   "cell_type": "code",
   "execution_count": null,
   "metadata": {},
   "outputs": [],
   "source": []
  }
 ],
 "metadata": {
  "kernelspec": {
   "display_name": "Python 3",
   "language": "python",
   "name": "python3"
  },
  "language_info": {
   "codemirror_mode": {
    "name": "ipython",
    "version": 3
   },
   "file_extension": ".py",
   "mimetype": "text/x-python",
   "name": "python",
   "nbconvert_exporter": "python",
   "pygments_lexer": "ipython3",
   "version": "3.5.4"
  }
 },
 "nbformat": 4,
 "nbformat_minor": 2
}
